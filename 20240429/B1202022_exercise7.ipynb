{
  "nbformat": 4,
  "nbformat_minor": 0,
  "metadata": {
    "colab": {
      "provenance": []
    },
    "kernelspec": {
      "name": "python3",
      "display_name": "Python 3"
    },
    "language_info": {
      "name": "python"
    }
  },
  "cells": [
    {
      "cell_type": "code",
      "execution_count": 2,
      "metadata": {
        "colab": {
          "base_uri": "https://localhost:8080/"
        },
        "id": "YAPNaFl_3ItV",
        "outputId": "7b284177-de14-4fe6-e19b-a0a0e716ea23"
      },
      "outputs": [
        {
          "output_type": "stream",
          "name": "stdout",
          "text": [
            "請輸入層數9\n",
            "        *\n",
            "       ***\n",
            "      *****\n",
            "     *******\n",
            "    *********\n",
            "   ***********\n",
            "  *************\n",
            " ***************\n",
            "*****************\n",
            "       ***\n",
            "       ***\n",
            "       ***\n",
            "       ***\n",
            "       ***\n"
          ]
        }
      ],
      "source": [
        "a=int(input('請輸入層數'))\n",
        "b='*'\n",
        "def xmastree(a):\n",
        "  for i in range(a):\n",
        "    print(' '*(a-i-1)+\"*\"*(2*i+1))\n",
        "def trunk():\n",
        "  for i in range(5):\n",
        "    print(' '*(a-2)+'*'*3)\n",
        "xmastree(a)\n",
        "trunk()\n",
        "\n",
        "\n"
      ]
    },
    {
      "cell_type": "code",
      "source": [
        "try:\n",
        "  a=int(input('請輸入身高，單位是公分'))\n",
        "  b=int(input('請輸入體重，單位是公斤'))\n",
        "  q = BMI(a, b)\n",
        "  print(float(q))\n",
        "  if q < 18.5:\n",
        "    print('過輕')\n",
        "  elif 18.5 <= q < 24:\n",
        "    print('適中')\n",
        "  elif 24 <= q < 27:\n",
        "    print('過重')\n",
        "  elif q >= 27:\n",
        "    print('肥胖')\n",
        "except:\n",
        "  print('輸入內容錯誤')\n",
        "\n",
        "def BMI(a, b):\n",
        "  a /= 100\n",
        "  return b / (a ** 2)\n",
        "\n"
      ],
      "metadata": {
        "colab": {
          "base_uri": "https://localhost:8080/"
        },
        "id": "wWuYkTbM4UXV",
        "outputId": "8e312da2-86cf-453a-e1b6-127a69901047"
      },
      "execution_count": 6,
      "outputs": [
        {
          "output_type": "stream",
          "name": "stdout",
          "text": [
            "請輸入身高，單位是公分165\n",
            "請輸入體重，單位是公斤p\n",
            "輸入內容錯誤\n"
          ]
        }
      ]
    }
  ]
}