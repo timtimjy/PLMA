{
  "nbformat": 4,
  "nbformat_minor": 0,
  "metadata": {
    "colab": {
      "provenance": []
    },
    "kernelspec": {
      "name": "python3",
      "display_name": "Python 3"
    },
    "language_info": {
      "name": "python"
    }
  },
  "cells": [
    {
      "cell_type": "code",
      "execution_count": 8,
      "metadata": {
        "colab": {
          "base_uri": "https://localhost:8080/"
        },
        "id": "0fMS_6oVkA6q",
        "outputId": "ee98cba4-3dc9-485c-e378-409275a859c3"
      },
      "outputs": [
        {
          "output_type": "stream",
          "name": "stdout",
          "text": [
            "請輸入身高，單位是公分165\n",
            "請輸入體重，單位是公斤53\n",
            "19.467401285583104\n",
            "適中\n"
          ]
        }
      ],
      "source": [
        "a=int(input('請輸入身高，單位是公分'))\n",
        "b=int(input('請輸入體重，單位是公斤'))\n",
        "a/=100\n",
        "b /= a ** 2\n",
        "print(float(b))\n",
        "if b < 18.5:\n",
        " print('過輕')\n",
        "elif 18.5 <= b < 24:\n",
        " print('適中')\n",
        "elif 24 <= b < 27:\n",
        " print('過重')\n",
        "elif b >= 27:\n",
        " print('肥胖')"
      ]
    },
    {
      "cell_type": "code",
      "source": [
        "a=int(input('請輸入第一個數字'))\n",
        "b=input('請輸入運算符號+,-,*,/')\n",
        "c=int(input('請輸入第二個數字'))\n",
        "if b=='+':\n",
        " print(float(a+c))\n",
        "elif b=='-':\n",
        "  print(float(a-c))\n",
        "elif b=='*':\n",
        "  print(float(a*c))\n",
        "elif b=='/':\n",
        "  print(float(a/c))"
      ],
      "metadata": {
        "colab": {
          "base_uri": "https://localhost:8080/"
        },
        "id": "oOstDCWinvZp",
        "outputId": "da923e97-cc3f-423f-b7e4-ca14a3a165cb"
      },
      "execution_count": 15,
      "outputs": [
        {
          "output_type": "stream",
          "name": "stdout",
          "text": [
            "請輸入第一個數字5\n",
            "請輸入運算符號+,-,*,/-\n",
            "請輸入第二個數字5\n",
            "0.0\n"
          ]
        }
      ]
    }
  ]
}