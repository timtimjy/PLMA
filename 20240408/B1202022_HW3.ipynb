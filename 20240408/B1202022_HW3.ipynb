{
  "nbformat": 4,
  "nbformat_minor": 0,
  "metadata": {
    "colab": {
      "provenance": []
    },
    "kernelspec": {
      "name": "python3",
      "display_name": "Python 3"
    },
    "language_info": {
      "name": "python"
    }
  },
  "cells": [
    {
      "cell_type": "code",
      "execution_count": 3,
      "metadata": {
        "colab": {
          "base_uri": "https://localhost:8080/"
        },
        "id": "PJbc_a9FupGU",
        "outputId": "3484bce0-9374-4e1b-d7c8-0a099bd22aac"
      },
      "outputs": [
        {
          "output_type": "stream",
          "name": "stdout",
          "text": [
            "請輸入年分1520\n",
            "閏年\n"
          ]
        }
      ],
      "source": [
        "a = int(input('請輸入年分'))\n",
        "if a < 1582:\n",
        "  if a % 4 == 0:\n",
        "    print('閏年')\n",
        "  else:\n",
        "    print('平年')\n",
        "elif a>=1582:\n",
        "  if a%4==0 and a%100!=0 or a%400==0:\n",
        "    print('閏年')\n",
        "  else:\n",
        "    print('平年')"
      ]
    },
    {
      "cell_type": "code",
      "source": [
        "a = int(input('請輸入年分'))\n",
        "if a < 1582:\n",
        "  if a % 4 == 0:\n",
        "    print('閏年')\n",
        "  else:\n",
        "    print('非閏年')\n",
        "elif a>=1582:\n",
        "  if a%4==0 and a%100!=0 or a%400==0:\n",
        "    print('閏年')\n",
        "  else:\n",
        "    print('平年')"
      ],
      "metadata": {
        "colab": {
          "base_uri": "https://localhost:8080/"
        },
        "id": "pwcQZP_KKNn1",
        "outputId": "6b56b987-545a-4407-f5c5-61efecc8b7b1"
      },
      "execution_count": 4,
      "outputs": [
        {
          "output_type": "stream",
          "name": "stdout",
          "text": [
            "請輸入年分1900\n",
            "平年\n"
          ]
        }
      ]
    }
  ]
}