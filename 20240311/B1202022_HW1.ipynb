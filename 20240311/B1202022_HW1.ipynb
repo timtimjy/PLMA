{
  "nbformat": 4,
  "nbformat_minor": 0,
  "metadata": {
    "colab": {
      "provenance": []
    },
    "kernelspec": {
      "name": "python3",
      "display_name": "Python 3"
    },
    "language_info": {
      "name": "python"
    }
  },
  "cells": [
    {
      "cell_type": "code",
      "execution_count": 1,
      "metadata": {
        "colab": {
          "base_uri": "https://localhost:8080/"
        },
        "id": "cdUh2DdR8OaM",
        "outputId": "63f92a4b-3a83-4b72-81f2-a07d264b59da"
      },
      "outputs": [
        {
          "output_type": "stream",
          "name": "stdout",
          "text": [
            "I'm a student\n"
          ]
        }
      ],
      "source": [
        "print(\"I'm a student\")"
      ]
    },
    {
      "cell_type": "code",
      "source": [
        "x1=input('請輸入A點的x座標')\n",
        "y1=input('請輸入A點的y座標')\n",
        "x2=input('請輸入B點的x座標')\n",
        "y2=input('請輸入B點的y座標')\n",
        "a=(float(x1)-float(x2))**2\n",
        "b=(float(y1)-float(y2))**2\n",
        "c=(float(a+b))**0.5\n",
        "print(c)"
      ],
      "metadata": {
        "colab": {
          "base_uri": "https://localhost:8080/"
        },
        "id": "pfNsvvT7ADIK",
        "outputId": "7d042d2a-028e-454f-8b6d-b1759c8db396"
      },
      "execution_count": 30,
      "outputs": [
        {
          "output_type": "stream",
          "name": "stdout",
          "text": [
            "請輸入A點的x座標0\n",
            "請輸入A點的y座標0\n",
            "請輸入B點的x座標5\n",
            "請輸入B點的y座標12\n",
            "13.0\n"
          ]
        }
      ]
    },
    {
      "cell_type": "code",
      "source": [
        "a=int(input('請輸入身高，單位是公分'))\n",
        "b=int(input('請輸入體重，單位是公斤'))\n",
        "a/=100\n",
        "b/=a**2\n",
        "print(float(b))\n",
        "\n"
      ],
      "metadata": {
        "colab": {
          "base_uri": "https://localhost:8080/"
        },
        "id": "5bkTc58DZUwf",
        "outputId": "7e062fe8-4a9a-47c0-fa74-630c6e3c7d1e"
      },
      "execution_count": 26,
      "outputs": [
        {
          "output_type": "stream",
          "name": "stdout",
          "text": [
            "請輸入身高，單位是公分180\n",
            "請輸入體重，單位是公斤50\n",
            "15.432098765432098\n"
          ]
        }
      ]
    }
  ]
}